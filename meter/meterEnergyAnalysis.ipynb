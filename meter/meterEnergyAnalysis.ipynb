{
 "cells": [
  {
   "cell_type": "code",
   "execution_count": null,
   "metadata": {},
   "outputs": [],
   "source": [
    "# Example using mysql2 for MySQL database interaction in a Jupyter Notebook\n",
    "import mysql.connector\n",
    "import pandas as pd\n",
    "\n",
    "# Connect to MySQL database\n",
    "db = mysql.connector.connect(\n",
    "    host='gridxmetersampledb.cypmhw23gpjn.us-east-1.rds.amazonaws.com',\n",
    "    user='pulsar',\n",
    "    password='12345678',\n",
    "    database='GridxMeterSampledb'\n",
    ")\n",
    "\n",
    "# Query data from the database\n",
    "query = 'SELECT * FROM your_table'\n",
    "df = pd.read_sql(query, db)\n",
    "\n",
    "# Perform data analysis\n",
    "# ...\n",
    "\n",
    "# Close the database connection\n",
    "connection.close()\n"
   ]
  }
 ],
 "metadata": {
  "language_info": {
   "name": "python"
  }
 },
 "nbformat": 4,
 "nbformat_minor": 2
}
